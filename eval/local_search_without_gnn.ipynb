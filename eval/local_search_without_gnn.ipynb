{
 "cells": [
  {
   "cell_type": "markdown",
   "metadata": {},
   "source": [
    "# Evaluation of local search without GNN\n",
    "\n",
    "This notebook documents the performance of the initial local search algorithm for the MQCP on benchmark instances without the use of a GNN. \n",
    "Each instance is run for 60 seconds, results are compared to results from NuQCLq paper, Chen et al., 2021. "
   ]
  },
  {
   "cell_type": "code",
   "execution_count": 20,
   "metadata": {},
   "outputs": [],
   "source": [
    "using Graphs\n",
    "using thesis.Instances\n",
    "using thesis.LocalSearch\n",
    "using DataFrames\n",
    "using CSV"
   ]
  },
  {
   "cell_type": "code",
   "execution_count": 2,
   "metadata": {},
   "outputs": [
    {
     "data": {
      "text/plain": [
       "MQCPInstance"
      ]
     },
     "metadata": {},
     "output_type": "display_data"
    }
   ],
   "source": [
    "\"\"\"\n",
    "    MQCPInstance\n",
    "\n",
    "- `graph`: Input graph\n",
    "- `target_γ`: Target density\n",
    "- `best_known`: Size of best known solution\n",
    "\n",
    "\"\"\"\n",
    "struct MQCPInstance\n",
    "    graph::SimpleGraph\n",
    "    graph_id::String\n",
    "    target_γ::Real\n",
    "    best_known::Int\n",
    "\n",
    "    function MQCPInstance(graph_id::String, target_γ::Real, best_known::Int)\n",
    "        graph = load_instance(\"../inst/DIMACS/$graph_id.clq\")\n",
    "        new(graph, graph_id, target_γ, best_known)\n",
    "    end\n",
    "end"
   ]
  },
  {
   "cell_type": "code",
   "execution_count": 14,
   "metadata": {},
   "outputs": [],
   "source": [
    "function obtain_settings(graph, stm_type, timelimit)\n",
    "    construction_heuristic_settings = ConstructionHeuristicSettings(\n",
    "                               0.4, # parameter p of exploration construction \n",
    "                               0.2, # GRASP parameter α\n",
    "                               1,   # beamwidth β of initial construction\n",
    "                               50,  # expansion_limit of initial construction\n",
    "                               GreedyCompletionHeuristic() # guidance function of initial construction\n",
    "                               )\n",
    "    short_term_memory = stm_type(graph)\n",
    "    settings = LocalSearchSettings(graph; \n",
    "                               construction_heuristic_settings, \n",
    "                               short_term_memory,\n",
    "                               timelimit, \n",
    "                               max_iter=4000, \n",
    "                               next_improvement=true, \n",
    "                               )\n",
    "    return settings\n",
    "end\n",
    "\n",
    ";"
   ]
  },
  {
   "cell_type": "code",
   "execution_count": 10,
   "metadata": {},
   "outputs": [],
   "source": [
    "# selection of 20 benchmark instances\n",
    "Instances = [\n",
    "    MQCPInstance(\"brock400_1\", 0.999,  27),\n",
    "    MQCPInstance(\"brock400_2\", 0.999,  29),\n",
    "    MQCPInstance(\"brock400_2\", 0.8  , 187),\n",
    "    MQCPInstance(\"brock400_3\", 0.999,  31),\n",
    "    MQCPInstance(\"brock800_1\", 0.9  ,  43),\n",
    "    MQCPInstance(\"brock800_2\", 0.999,  24),\n",
    "    MQCPInstance(\"brock800_2\", 0.8  ,  96),\n",
    "    MQCPInstance(\"brock800_3\", 0.999,  22),\n",
    "    MQCPInstance(\"brock800_3\", 0.9  ,  43),\n",
    "    MQCPInstance(\"brock800_3\", 0.8  ,  94),\n",
    "    MQCPInstance(\"C1000.9\",    0.999,  70),\n",
    "    MQCPInstance(\"C1000.9\",    0.95 , 222),\n",
    "    MQCPInstance(\"C2000.9\",    0.999,  82),\n",
    "    MQCPInstance(\"C2000.9\",    0.95 , 288),\n",
    "    MQCPInstance(\"DSJC1000.5\", 0.999, 15),\n",
    "    MQCPInstance(\"DSJC1000.5\", 0.8, 41),\n",
    "    MQCPInstance(\"DSJC500.5\", 0.999, 13),\n",
    "    MQCPInstance(\"gen400_p0.9_55\", 0.999, 55),\n",
    "    MQCPInstance(\"gen400_p0.9_65\", 0.999, 66),\n",
    "    MQCPInstance(\"hamming10-4\", 0.95, 88),\n",
    "]\n",
    ";"
   ]
  },
  {
   "cell_type": "code",
   "execution_count": 11,
   "metadata": {},
   "outputs": [],
   "source": [
    "results_ts = []\n",
    "for inst in Instances\n",
    "    settings = obtain_settings(inst.graph, TabuList, 60.0)\n",
    "    solution = run_MQCP(inst.graph, inst.target_γ; settings)\n",
    "    push!(results_ts, length(solution))\n",
    "end\n",
    ";"
   ]
  },
  {
   "cell_type": "code",
   "execution_count": 12,
   "metadata": {},
   "outputs": [],
   "source": [
    "results_cc = []\n",
    "for inst in Instances\n",
    "    settings = obtain_settings(inst.graph, ConfigurationChecking, 60.0)\n",
    "    solution = run_MQCP(inst.graph, inst.target_γ; settings)\n",
    "    push!(results_cc, length(solution))\n",
    "end\n",
    ";"
   ]
  },
  {
   "cell_type": "code",
   "execution_count": 13,
   "metadata": {},
   "outputs": [
    {
     "data": {
      "text/html": [
       "<div class=\"data-frame\"><p>20 rows × 8 columns</p><table class=\"data-frame\"><thead><tr><th></th><th>GraphID</th><th>V</th><th>E</th><th>Dens</th><th>γ</th><th>ConfChecking</th><th>TabuSearch</th><th>Best</th></tr><tr><th></th><th title=\"String\">String</th><th title=\"Int64\">Int64</th><th title=\"Int64\">Int64</th><th title=\"Real\">Real</th><th title=\"Real\">Real</th><th title=\"Int64\">Int64</th><th title=\"Int64\">Int64</th><th title=\"Int64\">Int64</th></tr></thead><tbody><tr><th>1</th><td>brock400_1</td><td>400</td><td>59723</td><td>0.748409</td><td>0.999</td><td>25</td><td>25</td><td>27</td></tr><tr><th>2</th><td>brock400_2</td><td>400</td><td>59786</td><td>0.749198</td><td>0.999</td><td>25</td><td>25</td><td>29</td></tr><tr><th>3</th><td>brock400_2</td><td>400</td><td>59786</td><td>0.749198</td><td>0.8</td><td>187</td><td>187</td><td>187</td></tr><tr><th>4</th><td>brock400_3</td><td>400</td><td>59681</td><td>0.747882</td><td>0.999</td><td>25</td><td>25</td><td>31</td></tr><tr><th>5</th><td>brock800_1</td><td>800</td><td>207505</td><td>0.649265</td><td>0.9</td><td>43</td><td>43</td><td>43</td></tr><tr><th>6</th><td>brock800_2</td><td>800</td><td>208166</td><td>0.651333</td><td>0.999</td><td>21</td><td>21</td><td>24</td></tr><tr><th>7</th><td>brock800_2</td><td>800</td><td>208166</td><td>0.651333</td><td>0.8</td><td>95</td><td>95</td><td>96</td></tr><tr><th>8</th><td>brock800_3</td><td>800</td><td>207333</td><td>0.648727</td><td>0.999</td><td>22</td><td>22</td><td>22</td></tr><tr><th>9</th><td>brock800_3</td><td>800</td><td>207333</td><td>0.648727</td><td>0.9</td><td>42</td><td>43</td><td>43</td></tr><tr><th>10</th><td>brock800_3</td><td>800</td><td>207333</td><td>0.648727</td><td>0.8</td><td>94</td><td>94</td><td>94</td></tr><tr><th>11</th><td>C1000.9</td><td>1000</td><td>450079</td><td>0.901059</td><td>0.999</td><td>68</td><td>70</td><td>70</td></tr><tr><th>12</th><td>C1000.9</td><td>1000</td><td>450079</td><td>0.901059</td><td>0.95</td><td>219</td><td>222</td><td>222</td></tr><tr><th>13</th><td>C2000.9</td><td>2000</td><td>1799532</td><td>0.900216</td><td>0.999</td><td>76</td><td>79</td><td>82</td></tr><tr><th>14</th><td>C2000.9</td><td>2000</td><td>1799532</td><td>0.900216</td><td>0.95</td><td>272</td><td>278</td><td>288</td></tr><tr><th>15</th><td>DSJC1000.5</td><td>1000</td><td>249826</td><td>0.500152</td><td>0.999</td><td>15</td><td>14</td><td>15</td></tr><tr><th>16</th><td>DSJC1000.5</td><td>1000</td><td>249826</td><td>0.500152</td><td>0.8</td><td>40</td><td>40</td><td>41</td></tr><tr><th>17</th><td>DSJC500.5</td><td>500</td><td>62624</td><td>0.501996</td><td>0.999</td><td>13</td><td>13</td><td>13</td></tr><tr><th>18</th><td>gen400_p0.9_55</td><td>400</td><td>71820</td><td>0.9</td><td>0.999</td><td>53</td><td>55</td><td>55</td></tr><tr><th>19</th><td>gen400_p0.9_65</td><td>400</td><td>71820</td><td>0.9</td><td>0.999</td><td>65</td><td>66</td><td>66</td></tr><tr><th>20</th><td>hamming10-4</td><td>1024</td><td>434176</td><td>0.828935</td><td>0.95</td><td>86</td><td>85</td><td>88</td></tr></tbody></table></div>"
      ],
      "text/latex": [
       "\\begin{tabular}{r|cccccccc}\n",
       "\t& GraphID & V & E & Dens & γ & ConfChecking & TabuSearch & Best\\\\\n",
       "\t\\hline\n",
       "\t& String & Int64 & Int64 & Real & Real & Int64 & Int64 & Int64\\\\\n",
       "\t\\hline\n",
       "\t1 & brock400\\_1 & 400 & 59723 & 0.748409 & 0.999 & 25 & 25 & 27 \\\\\n",
       "\t2 & brock400\\_2 & 400 & 59786 & 0.749198 & 0.999 & 25 & 25 & 29 \\\\\n",
       "\t3 & brock400\\_2 & 400 & 59786 & 0.749198 & 0.8 & 187 & 187 & 187 \\\\\n",
       "\t4 & brock400\\_3 & 400 & 59681 & 0.747882 & 0.999 & 25 & 25 & 31 \\\\\n",
       "\t5 & brock800\\_1 & 800 & 207505 & 0.649265 & 0.9 & 43 & 43 & 43 \\\\\n",
       "\t6 & brock800\\_2 & 800 & 208166 & 0.651333 & 0.999 & 21 & 21 & 24 \\\\\n",
       "\t7 & brock800\\_2 & 800 & 208166 & 0.651333 & 0.8 & 95 & 95 & 96 \\\\\n",
       "\t8 & brock800\\_3 & 800 & 207333 & 0.648727 & 0.999 & 22 & 22 & 22 \\\\\n",
       "\t9 & brock800\\_3 & 800 & 207333 & 0.648727 & 0.9 & 42 & 43 & 43 \\\\\n",
       "\t10 & brock800\\_3 & 800 & 207333 & 0.648727 & 0.8 & 94 & 94 & 94 \\\\\n",
       "\t11 & C1000.9 & 1000 & 450079 & 0.901059 & 0.999 & 68 & 70 & 70 \\\\\n",
       "\t12 & C1000.9 & 1000 & 450079 & 0.901059 & 0.95 & 219 & 222 & 222 \\\\\n",
       "\t13 & C2000.9 & 2000 & 1799532 & 0.900216 & 0.999 & 76 & 79 & 82 \\\\\n",
       "\t14 & C2000.9 & 2000 & 1799532 & 0.900216 & 0.95 & 272 & 278 & 288 \\\\\n",
       "\t15 & DSJC1000.5 & 1000 & 249826 & 0.500152 & 0.999 & 15 & 14 & 15 \\\\\n",
       "\t16 & DSJC1000.5 & 1000 & 249826 & 0.500152 & 0.8 & 40 & 40 & 41 \\\\\n",
       "\t17 & DSJC500.5 & 500 & 62624 & 0.501996 & 0.999 & 13 & 13 & 13 \\\\\n",
       "\t18 & gen400\\_p0.9\\_55 & 400 & 71820 & 0.9 & 0.999 & 53 & 55 & 55 \\\\\n",
       "\t19 & gen400\\_p0.9\\_65 & 400 & 71820 & 0.9 & 0.999 & 65 & 66 & 66 \\\\\n",
       "\t20 & hamming10-4 & 1024 & 434176 & 0.828935 & 0.95 & 86 & 85 & 88 \\\\\n",
       "\\end{tabular}\n"
      ],
      "text/plain": [
       "\u001b[1m20×8 DataFrame\u001b[0m\n",
       "\u001b[1m Row \u001b[0m│\u001b[1m GraphID        \u001b[0m\u001b[1m V     \u001b[0m\u001b[1m E       \u001b[0m\u001b[1m Dens     \u001b[0m\u001b[1m γ     \u001b[0m\u001b[1m ConfChecking \u001b[0m\u001b[1m TabuSear\u001b[0m ⋯\n",
       "\u001b[1m     \u001b[0m│\u001b[90m String         \u001b[0m\u001b[90m Int64 \u001b[0m\u001b[90m Int64   \u001b[0m\u001b[90m Real     \u001b[0m\u001b[90m Real  \u001b[0m\u001b[90m Int64        \u001b[0m\u001b[90m Int64   \u001b[0m ⋯\n",
       "─────┼──────────────────────────────────────────────────────────────────────────\n",
       "   1 │ brock400_1        400    59723  0.748409  0.999            25           ⋯\n",
       "   2 │ brock400_2        400    59786  0.749198  0.999            25\n",
       "   3 │ brock400_2        400    59786  0.749198  0.8             187         1\n",
       "   4 │ brock400_3        400    59681  0.747882  0.999            25\n",
       "   5 │ brock800_1        800   207505  0.649265  0.9              43           ⋯\n",
       "   6 │ brock800_2        800   208166  0.651333  0.999            21\n",
       "   7 │ brock800_2        800   208166  0.651333  0.8              95\n",
       "   8 │ brock800_3        800   207333  0.648727  0.999            22\n",
       "  ⋮  │       ⋮           ⋮       ⋮        ⋮        ⋮         ⋮            ⋮    ⋱\n",
       "  14 │ C2000.9          2000  1799532  0.900216  0.95            272         2 ⋯\n",
       "  15 │ DSJC1000.5       1000   249826  0.500152  0.999            15\n",
       "  16 │ DSJC1000.5       1000   249826  0.500152  0.8              40\n",
       "  17 │ DSJC500.5         500    62624  0.501996  0.999            13\n",
       "  18 │ gen400_p0.9_55    400    71820  0.9       0.999            53           ⋯\n",
       "  19 │ gen400_p0.9_65    400    71820  0.9       0.999            65\n",
       "  20 │ hamming10-4      1024   434176  0.828935  0.95             86\n",
       "\u001b[36m                                                    2 columns and 5 rows omitted\u001b[0m"
      ]
     },
     "metadata": {},
     "output_type": "display_data"
    }
   ],
   "source": [
    "df = DataFrame(GraphID=String[], V=Int[], E=Int[], Dens=Real[], γ=Real[], ConfChecking=Int[], TabuSearch=Int[], Best=Int[])\n",
    "\n",
    "for (idx, inst) in enumerate(Instances)\n",
    "    push!(df, (\n",
    "        inst.graph_id,\n",
    "        nv(inst.graph),\n",
    "        ne(inst.graph),\n",
    "        density(inst.graph),\n",
    "        inst.target_γ,\n",
    "        results_cc[idx],\n",
    "        results_ts[idx],\n",
    "        inst.best_known, \n",
    "        ))\n",
    "end\n",
    "df"
   ]
  },
  {
   "cell_type": "code",
   "execution_count": 21,
   "metadata": {},
   "outputs": [
    {
     "data": {
      "text/plain": [
       "\"df_60.csv\""
      ]
     },
     "metadata": {},
     "output_type": "display_data"
    }
   ],
   "source": [
    "CSV.write(\"df_60.csv\", df)"
   ]
  },
  {
   "cell_type": "code",
   "execution_count": 15,
   "metadata": {},
   "outputs": [],
   "source": [
    "results_ts_300 = []\n",
    "for inst in Instances\n",
    "    settings = obtain_settings(inst.graph, TabuList, 300.0)\n",
    "    solution = run_MQCP(inst.graph, inst.target_γ; settings)\n",
    "    push!(results_ts_300, length(solution))\n",
    "end\n",
    ";"
   ]
  },
  {
   "cell_type": "code",
   "execution_count": 16,
   "metadata": {},
   "outputs": [],
   "source": [
    "results_cc_300 = []\n",
    "for inst in Instances\n",
    "    settings = obtain_settings(inst.graph, ConfigurationChecking, 300.0)\n",
    "    solution = run_MQCP(inst.graph, inst.target_γ; settings)\n",
    "    push!(results_cc_300, length(solution))\n",
    "end\n",
    ";"
   ]
  },
  {
   "cell_type": "code",
   "execution_count": 17,
   "metadata": {},
   "outputs": [
    {
     "data": {
      "text/html": [
       "<div class=\"data-frame\"><p>20 rows × 8 columns</p><table class=\"data-frame\"><thead><tr><th></th><th>GraphID</th><th>V</th><th>E</th><th>Dens</th><th>γ</th><th>ConfChecking</th><th>TabuSearch</th><th>Best</th></tr><tr><th></th><th title=\"String\">String</th><th title=\"Int64\">Int64</th><th title=\"Int64\">Int64</th><th title=\"Real\">Real</th><th title=\"Real\">Real</th><th title=\"Int64\">Int64</th><th title=\"Int64\">Int64</th><th title=\"Int64\">Int64</th></tr></thead><tbody><tr><th>1</th><td>brock400_1</td><td>400</td><td>59723</td><td>0.748409</td><td>0.999</td><td>25</td><td>25</td><td>27</td></tr><tr><th>2</th><td>brock400_2</td><td>400</td><td>59786</td><td>0.749198</td><td>0.999</td><td>27</td><td>25</td><td>29</td></tr><tr><th>3</th><td>brock400_2</td><td>400</td><td>59786</td><td>0.749198</td><td>0.8</td><td>187</td><td>187</td><td>187</td></tr><tr><th>4</th><td>brock400_3</td><td>400</td><td>59681</td><td>0.747882</td><td>0.999</td><td>27</td><td>25</td><td>31</td></tr><tr><th>5</th><td>brock800_1</td><td>800</td><td>207505</td><td>0.649265</td><td>0.9</td><td>43</td><td>43</td><td>43</td></tr><tr><th>6</th><td>brock800_2</td><td>800</td><td>208166</td><td>0.651333</td><td>0.999</td><td>21</td><td>21</td><td>24</td></tr><tr><th>7</th><td>brock800_2</td><td>800</td><td>208166</td><td>0.651333</td><td>0.8</td><td>95</td><td>95</td><td>96</td></tr><tr><th>8</th><td>brock800_3</td><td>800</td><td>207333</td><td>0.648727</td><td>0.999</td><td>22</td><td>22</td><td>22</td></tr><tr><th>9</th><td>brock800_3</td><td>800</td><td>207333</td><td>0.648727</td><td>0.9</td><td>43</td><td>43</td><td>43</td></tr><tr><th>10</th><td>brock800_3</td><td>800</td><td>207333</td><td>0.648727</td><td>0.8</td><td>94</td><td>94</td><td>94</td></tr><tr><th>11</th><td>C1000.9</td><td>1000</td><td>450079</td><td>0.901059</td><td>0.999</td><td>69</td><td>70</td><td>70</td></tr><tr><th>12</th><td>C1000.9</td><td>1000</td><td>450079</td><td>0.901059</td><td>0.95</td><td>221</td><td>222</td><td>222</td></tr><tr><th>13</th><td>C2000.9</td><td>2000</td><td>1799532</td><td>0.900216</td><td>0.999</td><td>78</td><td>80</td><td>82</td></tr><tr><th>14</th><td>C2000.9</td><td>2000</td><td>1799532</td><td>0.900216</td><td>0.95</td><td>276</td><td>283</td><td>288</td></tr><tr><th>15</th><td>DSJC1000.5</td><td>1000</td><td>249826</td><td>0.500152</td><td>0.999</td><td>15</td><td>15</td><td>15</td></tr><tr><th>16</th><td>DSJC1000.5</td><td>1000</td><td>249826</td><td>0.500152</td><td>0.8</td><td>40</td><td>40</td><td>41</td></tr><tr><th>17</th><td>DSJC500.5</td><td>500</td><td>62624</td><td>0.501996</td><td>0.999</td><td>13</td><td>13</td><td>13</td></tr><tr><th>18</th><td>gen400_p0.9_55</td><td>400</td><td>71820</td><td>0.9</td><td>0.999</td><td>54</td><td>55</td><td>55</td></tr><tr><th>19</th><td>gen400_p0.9_65</td><td>400</td><td>71820</td><td>0.9</td><td>0.999</td><td>66</td><td>66</td><td>66</td></tr><tr><th>20</th><td>hamming10-4</td><td>1024</td><td>434176</td><td>0.828935</td><td>0.95</td><td>87</td><td>86</td><td>88</td></tr></tbody></table></div>"
      ],
      "text/latex": [
       "\\begin{tabular}{r|cccccccc}\n",
       "\t& GraphID & V & E & Dens & γ & ConfChecking & TabuSearch & Best\\\\\n",
       "\t\\hline\n",
       "\t& String & Int64 & Int64 & Real & Real & Int64 & Int64 & Int64\\\\\n",
       "\t\\hline\n",
       "\t1 & brock400\\_1 & 400 & 59723 & 0.748409 & 0.999 & 25 & 25 & 27 \\\\\n",
       "\t2 & brock400\\_2 & 400 & 59786 & 0.749198 & 0.999 & 27 & 25 & 29 \\\\\n",
       "\t3 & brock400\\_2 & 400 & 59786 & 0.749198 & 0.8 & 187 & 187 & 187 \\\\\n",
       "\t4 & brock400\\_3 & 400 & 59681 & 0.747882 & 0.999 & 27 & 25 & 31 \\\\\n",
       "\t5 & brock800\\_1 & 800 & 207505 & 0.649265 & 0.9 & 43 & 43 & 43 \\\\\n",
       "\t6 & brock800\\_2 & 800 & 208166 & 0.651333 & 0.999 & 21 & 21 & 24 \\\\\n",
       "\t7 & brock800\\_2 & 800 & 208166 & 0.651333 & 0.8 & 95 & 95 & 96 \\\\\n",
       "\t8 & brock800\\_3 & 800 & 207333 & 0.648727 & 0.999 & 22 & 22 & 22 \\\\\n",
       "\t9 & brock800\\_3 & 800 & 207333 & 0.648727 & 0.9 & 43 & 43 & 43 \\\\\n",
       "\t10 & brock800\\_3 & 800 & 207333 & 0.648727 & 0.8 & 94 & 94 & 94 \\\\\n",
       "\t11 & C1000.9 & 1000 & 450079 & 0.901059 & 0.999 & 69 & 70 & 70 \\\\\n",
       "\t12 & C1000.9 & 1000 & 450079 & 0.901059 & 0.95 & 221 & 222 & 222 \\\\\n",
       "\t13 & C2000.9 & 2000 & 1799532 & 0.900216 & 0.999 & 78 & 80 & 82 \\\\\n",
       "\t14 & C2000.9 & 2000 & 1799532 & 0.900216 & 0.95 & 276 & 283 & 288 \\\\\n",
       "\t15 & DSJC1000.5 & 1000 & 249826 & 0.500152 & 0.999 & 15 & 15 & 15 \\\\\n",
       "\t16 & DSJC1000.5 & 1000 & 249826 & 0.500152 & 0.8 & 40 & 40 & 41 \\\\\n",
       "\t17 & DSJC500.5 & 500 & 62624 & 0.501996 & 0.999 & 13 & 13 & 13 \\\\\n",
       "\t18 & gen400\\_p0.9\\_55 & 400 & 71820 & 0.9 & 0.999 & 54 & 55 & 55 \\\\\n",
       "\t19 & gen400\\_p0.9\\_65 & 400 & 71820 & 0.9 & 0.999 & 66 & 66 & 66 \\\\\n",
       "\t20 & hamming10-4 & 1024 & 434176 & 0.828935 & 0.95 & 87 & 86 & 88 \\\\\n",
       "\\end{tabular}\n"
      ],
      "text/plain": [
       "\u001b[1m20×8 DataFrame\u001b[0m\n",
       "\u001b[1m Row \u001b[0m│\u001b[1m GraphID        \u001b[0m\u001b[1m V     \u001b[0m\u001b[1m E       \u001b[0m\u001b[1m Dens     \u001b[0m\u001b[1m γ     \u001b[0m\u001b[1m ConfChecking \u001b[0m\u001b[1m TabuSear\u001b[0m ⋯\n",
       "\u001b[1m     \u001b[0m│\u001b[90m String         \u001b[0m\u001b[90m Int64 \u001b[0m\u001b[90m Int64   \u001b[0m\u001b[90m Real     \u001b[0m\u001b[90m Real  \u001b[0m\u001b[90m Int64        \u001b[0m\u001b[90m Int64   \u001b[0m ⋯\n",
       "─────┼──────────────────────────────────────────────────────────────────────────\n",
       "   1 │ brock400_1        400    59723  0.748409  0.999            25           ⋯\n",
       "   2 │ brock400_2        400    59786  0.749198  0.999            27\n",
       "   3 │ brock400_2        400    59786  0.749198  0.8             187         1\n",
       "   4 │ brock400_3        400    59681  0.747882  0.999            27\n",
       "   5 │ brock800_1        800   207505  0.649265  0.9              43           ⋯\n",
       "   6 │ brock800_2        800   208166  0.651333  0.999            21\n",
       "   7 │ brock800_2        800   208166  0.651333  0.8              95\n",
       "   8 │ brock800_3        800   207333  0.648727  0.999            22\n",
       "  ⋮  │       ⋮           ⋮       ⋮        ⋮        ⋮         ⋮            ⋮    ⋱\n",
       "  14 │ C2000.9          2000  1799532  0.900216  0.95            276         2 ⋯\n",
       "  15 │ DSJC1000.5       1000   249826  0.500152  0.999            15\n",
       "  16 │ DSJC1000.5       1000   249826  0.500152  0.8              40\n",
       "  17 │ DSJC500.5         500    62624  0.501996  0.999            13\n",
       "  18 │ gen400_p0.9_55    400    71820  0.9       0.999            54           ⋯\n",
       "  19 │ gen400_p0.9_65    400    71820  0.9       0.999            66\n",
       "  20 │ hamming10-4      1024   434176  0.828935  0.95             87\n",
       "\u001b[36m                                                    2 columns and 5 rows omitted\u001b[0m"
      ]
     },
     "metadata": {},
     "output_type": "display_data"
    }
   ],
   "source": [
    "df_300 = DataFrame(GraphID=String[], V=Int[], E=Int[], Dens=Real[], γ=Real[], ConfChecking=Int[], TabuSearch=Int[], Best=Int[])\n",
    "\n",
    "for (idx, inst) in enumerate(Instances)\n",
    "    push!(df_300, (\n",
    "        inst.graph_id,\n",
    "        nv(inst.graph),\n",
    "        ne(inst.graph),\n",
    "        density(inst.graph),\n",
    "        inst.target_γ,\n",
    "        results_cc_300[idx],\n",
    "        results_ts_300[idx],\n",
    "        inst.best_known, \n",
    "        ))\n",
    "end\n",
    "df_300"
   ]
  },
  {
   "cell_type": "code",
   "execution_count": 22,
   "metadata": {},
   "outputs": [
    {
     "data": {
      "text/plain": [
       "\"df_300.csv\""
      ]
     },
     "metadata": {},
     "output_type": "display_data"
    }
   ],
   "source": [
    "CSV.write(\"df_300.csv\", df)"
   ]
  }
 ],
 "metadata": {
  "kernelspec": {
   "display_name": "Julia 1.7.0",
   "language": "julia",
   "name": "julia-1.7"
  },
  "language_info": {
   "file_extension": ".jl",
   "mimetype": "application/julia",
   "name": "julia",
   "version": "1.7.0"
  },
  "orig_nbformat": 4
 },
 "nbformat": 4,
 "nbformat_minor": 2
}
