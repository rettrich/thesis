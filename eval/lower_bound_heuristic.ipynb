{
 "cells": [
  {
   "cell_type": "markdown",
   "metadata": {},
   "source": [
    "# Evaluation of lower bound heuristic\n",
    "\n",
    "This notebook documents the evaluation of the beam search construction heuristic used to obtain a lower bound."
   ]
  },
  {
   "cell_type": "code",
   "execution_count": 1,
   "metadata": {},
   "outputs": [
    {
     "name": "stdout",
     "output_type": "stream",
     "text": [
      "Set parameter Username\r\n",
      "Academic license - for non-commercial use only - expires 2023-06-16\r\n"
     ]
    }
   ],
   "source": [
    "using thesis.Instances\n",
    "using thesis.LocalSearch\n",
    "using BenchmarkTools\n",
    "using DataFrames\n",
    "using Printf\n",
    "using Latexify\n",
    ";"
   ]
  },
  {
   "cell_type": "code",
   "execution_count": 2,
   "metadata": {},
   "outputs": [],
   "source": [
    "# selection of 20 benchmark instances\n",
    "instances = [\n",
    "    MQCPInstance(\"brock400_1\", 0.999,  27),\n",
    "    MQCPInstance(\"brock400_2\", 0.999,  29),\n",
    "    MQCPInstance(\"brock400_2\", 0.8  , 187),\n",
    "    MQCPInstance(\"brock400_3\", 0.999,  31),\n",
    "    MQCPInstance(\"brock800_1\", 0.9  ,  43),\n",
    "    MQCPInstance(\"brock800_2\", 0.999,  24),\n",
    "    MQCPInstance(\"brock800_2\", 0.8  ,  96),\n",
    "    MQCPInstance(\"brock800_3\", 0.999,  22),\n",
    "    MQCPInstance(\"brock800_3\", 0.9  ,  43),\n",
    "    MQCPInstance(\"brock800_3\", 0.8  ,  94),\n",
    "    MQCPInstance(\"C1000.9\",    0.999,  70),\n",
    "    MQCPInstance(\"C1000.9\",    0.95 , 222),\n",
    "    MQCPInstance(\"C2000.9\",    0.999,  82),\n",
    "    MQCPInstance(\"C2000.9\",    0.95 , 288),\n",
    "    MQCPInstance(\"DSJC1000.5\", 0.999, 15),\n",
    "    MQCPInstance(\"DSJC1000.5\", 0.8, 41),\n",
    "    MQCPInstance(\"DSJC500.5\", 0.999, 13),\n",
    "    MQCPInstance(\"gen400_p0.9_55\", 0.999, 55),\n",
    "    MQCPInstance(\"gen400_p0.9_65\", 0.999, 66),\n",
    "    MQCPInstance(\"hamming10-4\", 0.95, 88),\n",
    "]\n",
    ";"
   ]
  },
  {
   "cell_type": "code",
   "execution_count": 3,
   "metadata": {},
   "outputs": [
    {
     "data": {
      "text/plain": [
       "evaluate (generic function with 1 method)"
      ]
     },
     "metadata": {},
     "output_type": "display_data"
    }
   ],
   "source": [
    "function evaluate(guidance_function::GuidanceFunction, guidance_str::String; β=1, expansion_limit=10)\n",
    "\n",
    "    df = DataFrame(GraphID=String[], \n",
    "                   target_γ=Real[], \n",
    "                   guidance_func=String[],  \n",
    "                   β=Int[], \n",
    "                   exp_limit=Int[], \n",
    "                   time=String[], \n",
    "                   obj=Int[], \n",
    "                   best_known=Int[])\n",
    "\n",
    "    for inst in instances\n",
    "        graph = inst.graph\n",
    "        γ = inst.target_γ\n",
    "\n",
    "        t = @elapsed begin \n",
    "            S = lower_bound_heuristic(graph, γ, guidance_function; β, expansion_limit)\n",
    "        end\n",
    "\n",
    "        push!(df, (\n",
    "            inst.graph_id,\n",
    "            inst.target_γ,\n",
    "            guidance_str,\n",
    "            β,\n",
    "            expansion_limit,\n",
    "            @sprintf(\"%.2f\", t),\n",
    "            length(S),\n",
    "            inst.best_known\n",
    "        ))\n",
    "    end\n",
    "\n",
    "    return df\n",
    "end"
   ]
  },
  {
   "cell_type": "markdown",
   "metadata": {},
   "source": [
    "### Greedy Construction"
   ]
  },
  {
   "cell_type": "code",
   "execution_count": 4,
   "metadata": {},
   "outputs": [
    {
     "data": {
      "text/plain": [
       "SumOfNeighborsHeuristic(10, 0.2)"
      ]
     },
     "metadata": {},
     "output_type": "display_data"
    }
   ],
   "source": [
    "greedy = GreedyCompletionHeuristic()\n",
    "sum_of_neighbors = SumOfNeighborsHeuristic(10, 0.2)"
   ]
  },
  {
   "cell_type": "markdown",
   "metadata": {},
   "source": [
    "#### $\\beta = 1, \\mathit{expansion\\_limit} = 10$"
   ]
  },
  {
   "cell_type": "code",
   "execution_count": 5,
   "metadata": {},
   "outputs": [
    {
     "data": {
      "text/html": [
       "<div class=\"data-frame\"><p>20 rows × 8 columns</p><table class=\"data-frame\"><thead><tr><th></th><th>GraphID</th><th>target_γ</th><th>guidance_func</th><th>β</th><th>exp_limit</th><th>time</th><th>obj</th><th>best_known</th></tr><tr><th></th><th title=\"String\">String</th><th title=\"Real\">Real</th><th title=\"String\">String</th><th title=\"Int64\">Int64</th><th title=\"Int64\">Int64</th><th title=\"String\">String</th><th title=\"Int64\">Int64</th><th title=\"Int64\">Int64</th></tr></thead><tbody><tr><th>1</th><td>brock400_1</td><td>0.999</td><td>sum of neighbors</td><td>1</td><td>10</td><td>0.23</td><td>17</td><td>27</td></tr><tr><th>2</th><td>brock400_2</td><td>0.999</td><td>sum of neighbors</td><td>1</td><td>10</td><td>0.01</td><td>17</td><td>29</td></tr><tr><th>3</th><td>brock400_2</td><td>0.8</td><td>sum of neighbors</td><td>1</td><td>10</td><td>0.07</td><td>163</td><td>187</td></tr><tr><th>4</th><td>brock400_3</td><td>0.999</td><td>sum of neighbors</td><td>1</td><td>10</td><td>0.01</td><td>16</td><td>31</td></tr><tr><th>5</th><td>brock800_1</td><td>0.9</td><td>sum of neighbors</td><td>1</td><td>10</td><td>0.04</td><td>31</td><td>43</td></tr><tr><th>6</th><td>brock800_2</td><td>0.999</td><td>sum of neighbors</td><td>1</td><td>10</td><td>0.05</td><td>14</td><td>24</td></tr><tr><th>7</th><td>brock800_2</td><td>0.8</td><td>sum of neighbors</td><td>1</td><td>10</td><td>0.07</td><td>78</td><td>96</td></tr><tr><th>8</th><td>brock800_3</td><td>0.999</td><td>sum of neighbors</td><td>1</td><td>10</td><td>0.04</td><td>18</td><td>22</td></tr><tr><th>9</th><td>brock800_3</td><td>0.9</td><td>sum of neighbors</td><td>1</td><td>10</td><td>0.04</td><td>32</td><td>43</td></tr><tr><th>10</th><td>brock800_3</td><td>0.8</td><td>sum of neighbors</td><td>1</td><td>10</td><td>0.07</td><td>73</td><td>94</td></tr><tr><th>11</th><td>C1000.9</td><td>0.999</td><td>sum of neighbors</td><td>1</td><td>10</td><td>0.07</td><td>48</td><td>70</td></tr><tr><th>12</th><td>C1000.9</td><td>0.95</td><td>sum of neighbors</td><td>1</td><td>10</td><td>0.18</td><td>188</td><td>222</td></tr><tr><th>13</th><td>C2000.9</td><td>0.999</td><td>sum of neighbors</td><td>1</td><td>10</td><td>0.25</td><td>52</td><td>82</td></tr><tr><th>14</th><td>C2000.9</td><td>0.95</td><td>sum of neighbors</td><td>1</td><td>10</td><td>0.52</td><td>230</td><td>288</td></tr><tr><th>15</th><td>DSJC1000.5</td><td>0.999</td><td>sum of neighbors</td><td>1</td><td>10</td><td>0.06</td><td>11</td><td>15</td></tr><tr><th>16</th><td>DSJC1000.5</td><td>0.8</td><td>sum of neighbors</td><td>1</td><td>10</td><td>0.06</td><td>31</td><td>41</td></tr><tr><th>17</th><td>DSJC500.5</td><td>0.999</td><td>sum of neighbors</td><td>1</td><td>10</td><td>0.01</td><td>9</td><td>13</td></tr><tr><th>18</th><td>gen400_p0.9_55</td><td>0.999</td><td>sum of neighbors</td><td>1</td><td>10</td><td>0.02</td><td>35</td><td>55</td></tr><tr><th>19</th><td>gen400_p0.9_65</td><td>0.999</td><td>sum of neighbors</td><td>1</td><td>10</td><td>0.03</td><td>35</td><td>66</td></tr><tr><th>20</th><td>hamming10-4</td><td>0.95</td><td>sum of neighbors</td><td>1</td><td>10</td><td>0.10</td><td>81</td><td>88</td></tr></tbody></table></div>"
      ],
      "text/latex": [
       "\\begin{tabular}{r|cccccccc}\n",
       "\t& GraphID & target\\_γ & guidance\\_func & β & exp\\_limit & time & obj & best\\_known\\\\\n",
       "\t\\hline\n",
       "\t& String & Real & String & Int64 & Int64 & String & Int64 & Int64\\\\\n",
       "\t\\hline\n",
       "\t1 & brock400\\_1 & 0.999 & sum of neighbors & 1 & 10 & 0.23 & 17 & 27 \\\\\n",
       "\t2 & brock400\\_2 & 0.999 & sum of neighbors & 1 & 10 & 0.01 & 17 & 29 \\\\\n",
       "\t3 & brock400\\_2 & 0.8 & sum of neighbors & 1 & 10 & 0.07 & 163 & 187 \\\\\n",
       "\t4 & brock400\\_3 & 0.999 & sum of neighbors & 1 & 10 & 0.01 & 16 & 31 \\\\\n",
       "\t5 & brock800\\_1 & 0.9 & sum of neighbors & 1 & 10 & 0.04 & 31 & 43 \\\\\n",
       "\t6 & brock800\\_2 & 0.999 & sum of neighbors & 1 & 10 & 0.05 & 14 & 24 \\\\\n",
       "\t7 & brock800\\_2 & 0.8 & sum of neighbors & 1 & 10 & 0.07 & 78 & 96 \\\\\n",
       "\t8 & brock800\\_3 & 0.999 & sum of neighbors & 1 & 10 & 0.04 & 18 & 22 \\\\\n",
       "\t9 & brock800\\_3 & 0.9 & sum of neighbors & 1 & 10 & 0.04 & 32 & 43 \\\\\n",
       "\t10 & brock800\\_3 & 0.8 & sum of neighbors & 1 & 10 & 0.07 & 73 & 94 \\\\\n",
       "\t11 & C1000.9 & 0.999 & sum of neighbors & 1 & 10 & 0.07 & 48 & 70 \\\\\n",
       "\t12 & C1000.9 & 0.95 & sum of neighbors & 1 & 10 & 0.18 & 188 & 222 \\\\\n",
       "\t13 & C2000.9 & 0.999 & sum of neighbors & 1 & 10 & 0.25 & 52 & 82 \\\\\n",
       "\t14 & C2000.9 & 0.95 & sum of neighbors & 1 & 10 & 0.52 & 230 & 288 \\\\\n",
       "\t15 & DSJC1000.5 & 0.999 & sum of neighbors & 1 & 10 & 0.06 & 11 & 15 \\\\\n",
       "\t16 & DSJC1000.5 & 0.8 & sum of neighbors & 1 & 10 & 0.06 & 31 & 41 \\\\\n",
       "\t17 & DSJC500.5 & 0.999 & sum of neighbors & 1 & 10 & 0.01 & 9 & 13 \\\\\n",
       "\t18 & gen400\\_p0.9\\_55 & 0.999 & sum of neighbors & 1 & 10 & 0.02 & 35 & 55 \\\\\n",
       "\t19 & gen400\\_p0.9\\_65 & 0.999 & sum of neighbors & 1 & 10 & 0.03 & 35 & 66 \\\\\n",
       "\t20 & hamming10-4 & 0.95 & sum of neighbors & 1 & 10 & 0.10 & 81 & 88 \\\\\n",
       "\\end{tabular}\n"
      ],
      "text/plain": [
       "\u001b[1m20×8 DataFrame\u001b[0m\n",
       "\u001b[1m Row \u001b[0m│\u001b[1m GraphID        \u001b[0m\u001b[1m target_γ \u001b[0m\u001b[1m guidance_func    \u001b[0m\u001b[1m β     \u001b[0m\u001b[1m exp_limit \u001b[0m\u001b[1m time   \u001b[0m\u001b[1m o\u001b[0m ⋯\n",
       "\u001b[1m     \u001b[0m│\u001b[90m String         \u001b[0m\u001b[90m Real     \u001b[0m\u001b[90m String           \u001b[0m\u001b[90m Int64 \u001b[0m\u001b[90m Int64     \u001b[0m\u001b[90m String \u001b[0m\u001b[90m I\u001b[0m ⋯\n",
       "─────┼──────────────────────────────────────────────────────────────────────────\n",
       "   1 │ brock400_1         0.999  sum of neighbors      1         10  0.23      ⋯\n",
       "   2 │ brock400_2         0.999  sum of neighbors      1         10  0.01\n",
       "   3 │ brock400_2         0.8    sum of neighbors      1         10  0.07\n",
       "   4 │ brock400_3         0.999  sum of neighbors      1         10  0.01\n",
       "   5 │ brock800_1         0.9    sum of neighbors      1         10  0.04      ⋯\n",
       "   6 │ brock800_2         0.999  sum of neighbors      1         10  0.05\n",
       "   7 │ brock800_2         0.8    sum of neighbors      1         10  0.07\n",
       "   8 │ brock800_3         0.999  sum of neighbors      1         10  0.04\n",
       "  ⋮  │       ⋮            ⋮             ⋮            ⋮        ⋮        ⋮       ⋱\n",
       "  14 │ C2000.9            0.95   sum of neighbors      1         10  0.52      ⋯\n",
       "  15 │ DSJC1000.5         0.999  sum of neighbors      1         10  0.06\n",
       "  16 │ DSJC1000.5         0.8    sum of neighbors      1         10  0.06\n",
       "  17 │ DSJC500.5          0.999  sum of neighbors      1         10  0.01\n",
       "  18 │ gen400_p0.9_55     0.999  sum of neighbors      1         10  0.02      ⋯\n",
       "  19 │ gen400_p0.9_65     0.999  sum of neighbors      1         10  0.03\n",
       "  20 │ hamming10-4        0.95   sum of neighbors      1         10  0.10\n",
       "\u001b[36m                                                    2 columns and 5 rows omitted\u001b[0m"
      ]
     },
     "metadata": {},
     "output_type": "display_data"
    }
   ],
   "source": [
    "df_beta_1_exp_10_greedy = evaluate(greedy, \"greedy\"; β=1, expansion_limit=10)\n",
    "df_beta_1_exp_10_sum = evaluate(sum_of_neighbors, \"sum of neighbors\"; β=1, expansion_limit=10)"
   ]
  },
  {
   "cell_type": "markdown",
   "metadata": {},
   "source": [
    "#### $\\beta = 5, \\mathit{expansion\\_limit} = 10$"
   ]
  },
  {
   "cell_type": "code",
   "execution_count": 6,
   "metadata": {},
   "outputs": [
    {
     "data": {
      "text/html": [
       "<div class=\"data-frame\"><p>20 rows × 8 columns</p><table class=\"data-frame\"><thead><tr><th></th><th>GraphID</th><th>target_γ</th><th>guidance_func</th><th>β</th><th>exp_limit</th><th>time</th><th>obj</th><th>best_known</th></tr><tr><th></th><th title=\"String\">String</th><th title=\"Real\">Real</th><th title=\"String\">String</th><th title=\"Int64\">Int64</th><th title=\"Int64\">Int64</th><th title=\"String\">String</th><th title=\"Int64\">Int64</th><th title=\"Int64\">Int64</th></tr></thead><tbody><tr><th>1</th><td>brock400_1</td><td>0.999</td><td>sum of neighbors</td><td>5</td><td>10</td><td>0.04</td><td>19</td><td>27</td></tr><tr><th>2</th><td>brock400_2</td><td>0.999</td><td>sum of neighbors</td><td>5</td><td>10</td><td>0.03</td><td>19</td><td>29</td></tr><tr><th>3</th><td>brock400_2</td><td>0.8</td><td>sum of neighbors</td><td>5</td><td>10</td><td>0.33</td><td>178</td><td>187</td></tr><tr><th>4</th><td>brock400_3</td><td>0.999</td><td>sum of neighbors</td><td>5</td><td>10</td><td>0.04</td><td>17</td><td>31</td></tr><tr><th>5</th><td>brock800_1</td><td>0.9</td><td>sum of neighbors</td><td>5</td><td>10</td><td>0.11</td><td>35</td><td>43</td></tr><tr><th>6</th><td>brock800_2</td><td>0.999</td><td>sum of neighbors</td><td>5</td><td>10</td><td>0.07</td><td>17</td><td>24</td></tr><tr><th>7</th><td>brock800_2</td><td>0.8</td><td>sum of neighbors</td><td>5</td><td>10</td><td>0.23</td><td>77</td><td>96</td></tr><tr><th>8</th><td>brock800_3</td><td>0.999</td><td>sum of neighbors</td><td>5</td><td>10</td><td>0.06</td><td>16</td><td>22</td></tr><tr><th>9</th><td>brock800_3</td><td>0.9</td><td>sum of neighbors</td><td>5</td><td>10</td><td>0.11</td><td>34</td><td>43</td></tr><tr><th>10</th><td>brock800_3</td><td>0.8</td><td>sum of neighbors</td><td>5</td><td>10</td><td>0.22</td><td>76</td><td>94</td></tr><tr><th>11</th><td>C1000.9</td><td>0.999</td><td>sum of neighbors</td><td>5</td><td>10</td><td>0.17</td><td>43</td><td>70</td></tr><tr><th>12</th><td>C1000.9</td><td>0.95</td><td>sum of neighbors</td><td>5</td><td>10</td><td>0.67</td><td>180</td><td>222</td></tr><tr><th>13</th><td>C2000.9</td><td>0.999</td><td>sum of neighbors</td><td>5</td><td>10</td><td>0.55</td><td>52</td><td>82</td></tr><tr><th>14</th><td>C2000.9</td><td>0.95</td><td>sum of neighbors</td><td>5</td><td>10</td><td>2.27</td><td>235</td><td>288</td></tr><tr><th>15</th><td>DSJC1000.5</td><td>0.999</td><td>sum of neighbors</td><td>5</td><td>10</td><td>0.08</td><td>12</td><td>15</td></tr><tr><th>16</th><td>DSJC1000.5</td><td>0.8</td><td>sum of neighbors</td><td>5</td><td>10</td><td>0.14</td><td>32</td><td>41</td></tr><tr><th>17</th><td>DSJC500.5</td><td>0.999</td><td>sum of neighbors</td><td>5</td><td>10</td><td>0.02</td><td>10</td><td>13</td></tr><tr><th>18</th><td>gen400_p0.9_55</td><td>0.999</td><td>sum of neighbors</td><td>5</td><td>10</td><td>0.05</td><td>36</td><td>55</td></tr><tr><th>19</th><td>gen400_p0.9_65</td><td>0.999</td><td>sum of neighbors</td><td>5</td><td>10</td><td>0.06</td><td>36</td><td>66</td></tr><tr><th>20</th><td>hamming10-4</td><td>0.95</td><td>sum of neighbors</td><td>5</td><td>10</td><td>0.28</td><td>74</td><td>88</td></tr></tbody></table></div>"
      ],
      "text/latex": [
       "\\begin{tabular}{r|cccccccc}\n",
       "\t& GraphID & target\\_γ & guidance\\_func & β & exp\\_limit & time & obj & best\\_known\\\\\n",
       "\t\\hline\n",
       "\t& String & Real & String & Int64 & Int64 & String & Int64 & Int64\\\\\n",
       "\t\\hline\n",
       "\t1 & brock400\\_1 & 0.999 & sum of neighbors & 5 & 10 & 0.04 & 19 & 27 \\\\\n",
       "\t2 & brock400\\_2 & 0.999 & sum of neighbors & 5 & 10 & 0.03 & 19 & 29 \\\\\n",
       "\t3 & brock400\\_2 & 0.8 & sum of neighbors & 5 & 10 & 0.33 & 178 & 187 \\\\\n",
       "\t4 & brock400\\_3 & 0.999 & sum of neighbors & 5 & 10 & 0.04 & 17 & 31 \\\\\n",
       "\t5 & brock800\\_1 & 0.9 & sum of neighbors & 5 & 10 & 0.11 & 35 & 43 \\\\\n",
       "\t6 & brock800\\_2 & 0.999 & sum of neighbors & 5 & 10 & 0.07 & 17 & 24 \\\\\n",
       "\t7 & brock800\\_2 & 0.8 & sum of neighbors & 5 & 10 & 0.23 & 77 & 96 \\\\\n",
       "\t8 & brock800\\_3 & 0.999 & sum of neighbors & 5 & 10 & 0.06 & 16 & 22 \\\\\n",
       "\t9 & brock800\\_3 & 0.9 & sum of neighbors & 5 & 10 & 0.11 & 34 & 43 \\\\\n",
       "\t10 & brock800\\_3 & 0.8 & sum of neighbors & 5 & 10 & 0.22 & 76 & 94 \\\\\n",
       "\t11 & C1000.9 & 0.999 & sum of neighbors & 5 & 10 & 0.17 & 43 & 70 \\\\\n",
       "\t12 & C1000.9 & 0.95 & sum of neighbors & 5 & 10 & 0.67 & 180 & 222 \\\\\n",
       "\t13 & C2000.9 & 0.999 & sum of neighbors & 5 & 10 & 0.55 & 52 & 82 \\\\\n",
       "\t14 & C2000.9 & 0.95 & sum of neighbors & 5 & 10 & 2.27 & 235 & 288 \\\\\n",
       "\t15 & DSJC1000.5 & 0.999 & sum of neighbors & 5 & 10 & 0.08 & 12 & 15 \\\\\n",
       "\t16 & DSJC1000.5 & 0.8 & sum of neighbors & 5 & 10 & 0.14 & 32 & 41 \\\\\n",
       "\t17 & DSJC500.5 & 0.999 & sum of neighbors & 5 & 10 & 0.02 & 10 & 13 \\\\\n",
       "\t18 & gen400\\_p0.9\\_55 & 0.999 & sum of neighbors & 5 & 10 & 0.05 & 36 & 55 \\\\\n",
       "\t19 & gen400\\_p0.9\\_65 & 0.999 & sum of neighbors & 5 & 10 & 0.06 & 36 & 66 \\\\\n",
       "\t20 & hamming10-4 & 0.95 & sum of neighbors & 5 & 10 & 0.28 & 74 & 88 \\\\\n",
       "\\end{tabular}\n"
      ],
      "text/plain": [
       "\u001b[1m20×8 DataFrame\u001b[0m\n",
       "\u001b[1m Row \u001b[0m│\u001b[1m GraphID        \u001b[0m\u001b[1m target_γ \u001b[0m\u001b[1m guidance_func    \u001b[0m\u001b[1m β     \u001b[0m\u001b[1m exp_limit \u001b[0m\u001b[1m time   \u001b[0m\u001b[1m o\u001b[0m ⋯\n",
       "\u001b[1m     \u001b[0m│\u001b[90m String         \u001b[0m\u001b[90m Real     \u001b[0m\u001b[90m String           \u001b[0m\u001b[90m Int64 \u001b[0m\u001b[90m Int64     \u001b[0m\u001b[90m String \u001b[0m\u001b[90m I\u001b[0m ⋯\n",
       "─────┼──────────────────────────────────────────────────────────────────────────\n",
       "   1 │ brock400_1         0.999  sum of neighbors      5         10  0.04      ⋯\n",
       "   2 │ brock400_2         0.999  sum of neighbors      5         10  0.03\n",
       "   3 │ brock400_2         0.8    sum of neighbors      5         10  0.33\n",
       "   4 │ brock400_3         0.999  sum of neighbors      5         10  0.04\n",
       "   5 │ brock800_1         0.9    sum of neighbors      5         10  0.11      ⋯\n",
       "   6 │ brock800_2         0.999  sum of neighbors      5         10  0.07\n",
       "   7 │ brock800_2         0.8    sum of neighbors      5         10  0.23\n",
       "   8 │ brock800_3         0.999  sum of neighbors      5         10  0.06\n",
       "  ⋮  │       ⋮            ⋮             ⋮            ⋮        ⋮        ⋮       ⋱\n",
       "  14 │ C2000.9            0.95   sum of neighbors      5         10  2.27      ⋯\n",
       "  15 │ DSJC1000.5         0.999  sum of neighbors      5         10  0.08\n",
       "  16 │ DSJC1000.5         0.8    sum of neighbors      5         10  0.14\n",
       "  17 │ DSJC500.5          0.999  sum of neighbors      5         10  0.02\n",
       "  18 │ gen400_p0.9_55     0.999  sum of neighbors      5         10  0.05      ⋯\n",
       "  19 │ gen400_p0.9_65     0.999  sum of neighbors      5         10  0.06\n",
       "  20 │ hamming10-4        0.95   sum of neighbors      5         10  0.28\n",
       "\u001b[36m                                                    2 columns and 5 rows omitted\u001b[0m"
      ]
     },
     "metadata": {},
     "output_type": "display_data"
    }
   ],
   "source": [
    "df_beta_5_exp_10_greedy = evaluate(greedy, \"greedy\"; β=5, expansion_limit=10)\n",
    "df_beta_5_exp_10_sum = evaluate(sum_of_neighbors, \"sum of neighbors\"; β=5, expansion_limit=10)"
   ]
  },
  {
   "cell_type": "code",
   "execution_count": 7,
   "metadata": {},
   "outputs": [],
   "source": [
    "# latex_str = latexify(df; env=:table, latex=false)\n",
    "# open(\"table.txt\", \"w\") do io\n",
    "#     write(io, latex_str)\n",
    "# end"
   ]
  },
  {
   "cell_type": "markdown",
   "metadata": {},
   "source": [
    "#### $\\beta = 5, \\mathit{expansion\\_limit} = 20$"
   ]
  },
  {
   "cell_type": "code",
   "execution_count": 8,
   "metadata": {},
   "outputs": [
    {
     "data": {
      "text/html": [
       "<div class=\"data-frame\"><p>20 rows × 8 columns</p><table class=\"data-frame\"><thead><tr><th></th><th>GraphID</th><th>target_γ</th><th>guidance_func</th><th>β</th><th>exp_limit</th><th>time</th><th>obj</th><th>best_known</th></tr><tr><th></th><th title=\"String\">String</th><th title=\"Real\">Real</th><th title=\"String\">String</th><th title=\"Int64\">Int64</th><th title=\"Int64\">Int64</th><th title=\"String\">String</th><th title=\"Int64\">Int64</th><th title=\"Int64\">Int64</th></tr></thead><tbody><tr><th>1</th><td>brock400_1</td><td>0.999</td><td>sum of neighbors</td><td>5</td><td>20</td><td>0.04</td><td>20</td><td>27</td></tr><tr><th>2</th><td>brock400_2</td><td>0.999</td><td>sum of neighbors</td><td>5</td><td>20</td><td>0.04</td><td>18</td><td>29</td></tr><tr><th>3</th><td>brock400_2</td><td>0.8</td><td>sum of neighbors</td><td>5</td><td>20</td><td>0.55</td><td>178</td><td>187</td></tr><tr><th>4</th><td>brock400_3</td><td>0.999</td><td>sum of neighbors</td><td>5</td><td>20</td><td>0.04</td><td>21</td><td>31</td></tr><tr><th>5</th><td>brock800_1</td><td>0.9</td><td>sum of neighbors</td><td>5</td><td>20</td><td>0.16</td><td>34</td><td>43</td></tr><tr><th>6</th><td>brock800_2</td><td>0.999</td><td>sum of neighbors</td><td>5</td><td>20</td><td>0.08</td><td>15</td><td>24</td></tr><tr><th>7</th><td>brock800_2</td><td>0.8</td><td>sum of neighbors</td><td>5</td><td>20</td><td>0.38</td><td>81</td><td>96</td></tr><tr><th>8</th><td>brock800_3</td><td>0.999</td><td>sum of neighbors</td><td>5</td><td>20</td><td>0.08</td><td>15</td><td>22</td></tr><tr><th>9</th><td>brock800_3</td><td>0.9</td><td>sum of neighbors</td><td>5</td><td>20</td><td>0.14</td><td>33</td><td>43</td></tr><tr><th>10</th><td>brock800_3</td><td>0.8</td><td>sum of neighbors</td><td>5</td><td>20</td><td>0.36</td><td>79</td><td>94</td></tr><tr><th>11</th><td>C1000.9</td><td>0.999</td><td>sum of neighbors</td><td>5</td><td>20</td><td>0.26</td><td>43</td><td>70</td></tr><tr><th>12</th><td>C1000.9</td><td>0.95</td><td>sum of neighbors</td><td>5</td><td>20</td><td>1.13</td><td>178</td><td>222</td></tr><tr><th>13</th><td>C2000.9</td><td>0.999</td><td>sum of neighbors</td><td>5</td><td>20</td><td>0.81</td><td>53</td><td>82</td></tr><tr><th>14</th><td>C2000.9</td><td>0.95</td><td>sum of neighbors</td><td>5</td><td>20</td><td>3.37</td><td>230</td><td>288</td></tr><tr><th>15</th><td>DSJC1000.5</td><td>0.999</td><td>sum of neighbors</td><td>5</td><td>20</td><td>0.09</td><td>11</td><td>15</td></tr><tr><th>16</th><td>DSJC1000.5</td><td>0.8</td><td>sum of neighbors</td><td>5</td><td>20</td><td>0.19</td><td>31</td><td>41</td></tr><tr><th>17</th><td>DSJC500.5</td><td>0.999</td><td>sum of neighbors</td><td>5</td><td>20</td><td>0.03</td><td>10</td><td>13</td></tr><tr><th>18</th><td>gen400_p0.9_55</td><td>0.999</td><td>sum of neighbors</td><td>5</td><td>20</td><td>0.08</td><td>33</td><td>55</td></tr><tr><th>19</th><td>gen400_p0.9_65</td><td>0.999</td><td>sum of neighbors</td><td>5</td><td>20</td><td>0.09</td><td>40</td><td>66</td></tr><tr><th>20</th><td>hamming10-4</td><td>0.95</td><td>sum of neighbors</td><td>5</td><td>20</td><td>0.51</td><td>81</td><td>88</td></tr></tbody></table></div>"
      ],
      "text/latex": [
       "\\begin{tabular}{r|cccccccc}\n",
       "\t& GraphID & target\\_γ & guidance\\_func & β & exp\\_limit & time & obj & best\\_known\\\\\n",
       "\t\\hline\n",
       "\t& String & Real & String & Int64 & Int64 & String & Int64 & Int64\\\\\n",
       "\t\\hline\n",
       "\t1 & brock400\\_1 & 0.999 & sum of neighbors & 5 & 20 & 0.04 & 20 & 27 \\\\\n",
       "\t2 & brock400\\_2 & 0.999 & sum of neighbors & 5 & 20 & 0.04 & 18 & 29 \\\\\n",
       "\t3 & brock400\\_2 & 0.8 & sum of neighbors & 5 & 20 & 0.55 & 178 & 187 \\\\\n",
       "\t4 & brock400\\_3 & 0.999 & sum of neighbors & 5 & 20 & 0.04 & 21 & 31 \\\\\n",
       "\t5 & brock800\\_1 & 0.9 & sum of neighbors & 5 & 20 & 0.16 & 34 & 43 \\\\\n",
       "\t6 & brock800\\_2 & 0.999 & sum of neighbors & 5 & 20 & 0.08 & 15 & 24 \\\\\n",
       "\t7 & brock800\\_2 & 0.8 & sum of neighbors & 5 & 20 & 0.38 & 81 & 96 \\\\\n",
       "\t8 & brock800\\_3 & 0.999 & sum of neighbors & 5 & 20 & 0.08 & 15 & 22 \\\\\n",
       "\t9 & brock800\\_3 & 0.9 & sum of neighbors & 5 & 20 & 0.14 & 33 & 43 \\\\\n",
       "\t10 & brock800\\_3 & 0.8 & sum of neighbors & 5 & 20 & 0.36 & 79 & 94 \\\\\n",
       "\t11 & C1000.9 & 0.999 & sum of neighbors & 5 & 20 & 0.26 & 43 & 70 \\\\\n",
       "\t12 & C1000.9 & 0.95 & sum of neighbors & 5 & 20 & 1.13 & 178 & 222 \\\\\n",
       "\t13 & C2000.9 & 0.999 & sum of neighbors & 5 & 20 & 0.81 & 53 & 82 \\\\\n",
       "\t14 & C2000.9 & 0.95 & sum of neighbors & 5 & 20 & 3.37 & 230 & 288 \\\\\n",
       "\t15 & DSJC1000.5 & 0.999 & sum of neighbors & 5 & 20 & 0.09 & 11 & 15 \\\\\n",
       "\t16 & DSJC1000.5 & 0.8 & sum of neighbors & 5 & 20 & 0.19 & 31 & 41 \\\\\n",
       "\t17 & DSJC500.5 & 0.999 & sum of neighbors & 5 & 20 & 0.03 & 10 & 13 \\\\\n",
       "\t18 & gen400\\_p0.9\\_55 & 0.999 & sum of neighbors & 5 & 20 & 0.08 & 33 & 55 \\\\\n",
       "\t19 & gen400\\_p0.9\\_65 & 0.999 & sum of neighbors & 5 & 20 & 0.09 & 40 & 66 \\\\\n",
       "\t20 & hamming10-4 & 0.95 & sum of neighbors & 5 & 20 & 0.51 & 81 & 88 \\\\\n",
       "\\end{tabular}\n"
      ],
      "text/plain": [
       "\u001b[1m20×8 DataFrame\u001b[0m\n",
       "\u001b[1m Row \u001b[0m│\u001b[1m GraphID        \u001b[0m\u001b[1m target_γ \u001b[0m\u001b[1m guidance_func    \u001b[0m\u001b[1m β     \u001b[0m\u001b[1m exp_limit \u001b[0m\u001b[1m time   \u001b[0m\u001b[1m o\u001b[0m ⋯\n",
       "\u001b[1m     \u001b[0m│\u001b[90m String         \u001b[0m\u001b[90m Real     \u001b[0m\u001b[90m String           \u001b[0m\u001b[90m Int64 \u001b[0m\u001b[90m Int64     \u001b[0m\u001b[90m String \u001b[0m\u001b[90m I\u001b[0m ⋯\n",
       "─────┼──────────────────────────────────────────────────────────────────────────\n",
       "   1 │ brock400_1         0.999  sum of neighbors      5         20  0.04      ⋯\n",
       "   2 │ brock400_2         0.999  sum of neighbors      5         20  0.04\n",
       "   3 │ brock400_2         0.8    sum of neighbors      5         20  0.55\n",
       "   4 │ brock400_3         0.999  sum of neighbors      5         20  0.04\n",
       "   5 │ brock800_1         0.9    sum of neighbors      5         20  0.16      ⋯\n",
       "   6 │ brock800_2         0.999  sum of neighbors      5         20  0.08\n",
       "   7 │ brock800_2         0.8    sum of neighbors      5         20  0.38\n",
       "   8 │ brock800_3         0.999  sum of neighbors      5         20  0.08\n",
       "  ⋮  │       ⋮            ⋮             ⋮            ⋮        ⋮        ⋮       ⋱\n",
       "  14 │ C2000.9            0.95   sum of neighbors      5         20  3.37      ⋯\n",
       "  15 │ DSJC1000.5         0.999  sum of neighbors      5         20  0.09\n",
       "  16 │ DSJC1000.5         0.8    sum of neighbors      5         20  0.19\n",
       "  17 │ DSJC500.5          0.999  sum of neighbors      5         20  0.03\n",
       "  18 │ gen400_p0.9_55     0.999  sum of neighbors      5         20  0.08      ⋯\n",
       "  19 │ gen400_p0.9_65     0.999  sum of neighbors      5         20  0.09\n",
       "  20 │ hamming10-4        0.95   sum of neighbors      5         20  0.51\n",
       "\u001b[36m                                                    2 columns and 5 rows omitted\u001b[0m"
      ]
     },
     "metadata": {},
     "output_type": "display_data"
    }
   ],
   "source": [
    "df_beta_5_exp_20_greedy = evaluate(greedy, \"greedy\"; β=5, expansion_limit=20)\n",
    "df_beta_5_exp_20_sum = evaluate(sum_of_neighbors, \"sum of neighbors\"; β=5, expansion_limit=20)"
   ]
  },
  {
   "cell_type": "markdown",
   "metadata": {},
   "source": [
    "#### $\\beta = 10, \\mathit{expansion\\_limit} = 20$"
   ]
  },
  {
   "cell_type": "code",
   "execution_count": 9,
   "metadata": {},
   "outputs": [
    {
     "data": {
      "text/html": [
       "<div class=\"data-frame\"><p>20 rows × 8 columns</p><table class=\"data-frame\"><thead><tr><th></th><th>GraphID</th><th>target_γ</th><th>guidance_func</th><th>β</th><th>exp_limit</th><th>time</th><th>obj</th><th>best_known</th></tr><tr><th></th><th title=\"String\">String</th><th title=\"Real\">Real</th><th title=\"String\">String</th><th title=\"Int64\">Int64</th><th title=\"Int64\">Int64</th><th title=\"String\">String</th><th title=\"Int64\">Int64</th><th title=\"Int64\">Int64</th></tr></thead><tbody><tr><th>1</th><td>brock400_1</td><td>0.999</td><td>sum of neighbors</td><td>10</td><td>20</td><td>0.06</td><td>17</td><td>27</td></tr><tr><th>2</th><td>brock400_2</td><td>0.999</td><td>sum of neighbors</td><td>10</td><td>20</td><td>0.08</td><td>18</td><td>29</td></tr><tr><th>3</th><td>brock400_2</td><td>0.8</td><td>sum of neighbors</td><td>10</td><td>20</td><td>1.04</td><td>170</td><td>187</td></tr><tr><th>4</th><td>brock400_3</td><td>0.999</td><td>sum of neighbors</td><td>10</td><td>20</td><td>0.08</td><td>19</td><td>31</td></tr><tr><th>5</th><td>brock800_1</td><td>0.9</td><td>sum of neighbors</td><td>10</td><td>20</td><td>0.28</td><td>32</td><td>43</td></tr><tr><th>6</th><td>brock800_2</td><td>0.999</td><td>sum of neighbors</td><td>10</td><td>20</td><td>0.13</td><td>15</td><td>24</td></tr><tr><th>7</th><td>brock800_2</td><td>0.8</td><td>sum of neighbors</td><td>10</td><td>20</td><td>0.72</td><td>77</td><td>96</td></tr><tr><th>8</th><td>brock800_3</td><td>0.999</td><td>sum of neighbors</td><td>10</td><td>20</td><td>0.13</td><td>16</td><td>22</td></tr><tr><th>9</th><td>brock800_3</td><td>0.9</td><td>sum of neighbors</td><td>10</td><td>20</td><td>0.28</td><td>32</td><td>43</td></tr><tr><th>10</th><td>brock800_3</td><td>0.8</td><td>sum of neighbors</td><td>10</td><td>20</td><td>0.65</td><td>73</td><td>94</td></tr><tr><th>11</th><td>C1000.9</td><td>0.999</td><td>sum of neighbors</td><td>10</td><td>20</td><td>0.44</td><td>42</td><td>70</td></tr><tr><th>12</th><td>C1000.9</td><td>0.95</td><td>sum of neighbors</td><td>10</td><td>20</td><td>2.24</td><td>179</td><td>222</td></tr><tr><th>13</th><td>C2000.9</td><td>0.999</td><td>sum of neighbors</td><td>10</td><td>20</td><td>1.51</td><td>53</td><td>82</td></tr><tr><th>14</th><td>C2000.9</td><td>0.95</td><td>sum of neighbors</td><td>10</td><td>20</td><td>6.60</td><td>226</td><td>288</td></tr><tr><th>15</th><td>DSJC1000.5</td><td>0.999</td><td>sum of neighbors</td><td>10</td><td>20</td><td>0.13</td><td>10</td><td>15</td></tr><tr><th>16</th><td>DSJC1000.5</td><td>0.8</td><td>sum of neighbors</td><td>10</td><td>20</td><td>0.37</td><td>34</td><td>41</td></tr><tr><th>17</th><td>DSJC500.5</td><td>0.999</td><td>sum of neighbors</td><td>10</td><td>20</td><td>0.04</td><td>10</td><td>13</td></tr><tr><th>18</th><td>gen400_p0.9_55</td><td>0.999</td><td>sum of neighbors</td><td>10</td><td>20</td><td>0.17</td><td>36</td><td>55</td></tr><tr><th>19</th><td>gen400_p0.9_65</td><td>0.999</td><td>sum of neighbors</td><td>10</td><td>20</td><td>0.19</td><td>39</td><td>66</td></tr><tr><th>20</th><td>hamming10-4</td><td>0.95</td><td>sum of neighbors</td><td>10</td><td>20</td><td>0.92</td><td>75</td><td>88</td></tr></tbody></table></div>"
      ],
      "text/latex": [
       "\\begin{tabular}{r|cccccccc}\n",
       "\t& GraphID & target\\_γ & guidance\\_func & β & exp\\_limit & time & obj & best\\_known\\\\\n",
       "\t\\hline\n",
       "\t& String & Real & String & Int64 & Int64 & String & Int64 & Int64\\\\\n",
       "\t\\hline\n",
       "\t1 & brock400\\_1 & 0.999 & sum of neighbors & 10 & 20 & 0.06 & 17 & 27 \\\\\n",
       "\t2 & brock400\\_2 & 0.999 & sum of neighbors & 10 & 20 & 0.08 & 18 & 29 \\\\\n",
       "\t3 & brock400\\_2 & 0.8 & sum of neighbors & 10 & 20 & 1.04 & 170 & 187 \\\\\n",
       "\t4 & brock400\\_3 & 0.999 & sum of neighbors & 10 & 20 & 0.08 & 19 & 31 \\\\\n",
       "\t5 & brock800\\_1 & 0.9 & sum of neighbors & 10 & 20 & 0.28 & 32 & 43 \\\\\n",
       "\t6 & brock800\\_2 & 0.999 & sum of neighbors & 10 & 20 & 0.13 & 15 & 24 \\\\\n",
       "\t7 & brock800\\_2 & 0.8 & sum of neighbors & 10 & 20 & 0.72 & 77 & 96 \\\\\n",
       "\t8 & brock800\\_3 & 0.999 & sum of neighbors & 10 & 20 & 0.13 & 16 & 22 \\\\\n",
       "\t9 & brock800\\_3 & 0.9 & sum of neighbors & 10 & 20 & 0.28 & 32 & 43 \\\\\n",
       "\t10 & brock800\\_3 & 0.8 & sum of neighbors & 10 & 20 & 0.65 & 73 & 94 \\\\\n",
       "\t11 & C1000.9 & 0.999 & sum of neighbors & 10 & 20 & 0.44 & 42 & 70 \\\\\n",
       "\t12 & C1000.9 & 0.95 & sum of neighbors & 10 & 20 & 2.24 & 179 & 222 \\\\\n",
       "\t13 & C2000.9 & 0.999 & sum of neighbors & 10 & 20 & 1.51 & 53 & 82 \\\\\n",
       "\t14 & C2000.9 & 0.95 & sum of neighbors & 10 & 20 & 6.60 & 226 & 288 \\\\\n",
       "\t15 & DSJC1000.5 & 0.999 & sum of neighbors & 10 & 20 & 0.13 & 10 & 15 \\\\\n",
       "\t16 & DSJC1000.5 & 0.8 & sum of neighbors & 10 & 20 & 0.37 & 34 & 41 \\\\\n",
       "\t17 & DSJC500.5 & 0.999 & sum of neighbors & 10 & 20 & 0.04 & 10 & 13 \\\\\n",
       "\t18 & gen400\\_p0.9\\_55 & 0.999 & sum of neighbors & 10 & 20 & 0.17 & 36 & 55 \\\\\n",
       "\t19 & gen400\\_p0.9\\_65 & 0.999 & sum of neighbors & 10 & 20 & 0.19 & 39 & 66 \\\\\n",
       "\t20 & hamming10-4 & 0.95 & sum of neighbors & 10 & 20 & 0.92 & 75 & 88 \\\\\n",
       "\\end{tabular}\n"
      ],
      "text/plain": [
       "\u001b[1m20×8 DataFrame\u001b[0m\n",
       "\u001b[1m Row \u001b[0m│\u001b[1m GraphID        \u001b[0m\u001b[1m target_γ \u001b[0m\u001b[1m guidance_func    \u001b[0m\u001b[1m β     \u001b[0m\u001b[1m exp_limit \u001b[0m\u001b[1m time   \u001b[0m\u001b[1m o\u001b[0m ⋯\n",
       "\u001b[1m     \u001b[0m│\u001b[90m String         \u001b[0m\u001b[90m Real     \u001b[0m\u001b[90m String           \u001b[0m\u001b[90m Int64 \u001b[0m\u001b[90m Int64     \u001b[0m\u001b[90m String \u001b[0m\u001b[90m I\u001b[0m ⋯\n",
       "─────┼──────────────────────────────────────────────────────────────────────────\n",
       "   1 │ brock400_1         0.999  sum of neighbors     10         20  0.06      ⋯\n",
       "   2 │ brock400_2         0.999  sum of neighbors     10         20  0.08\n",
       "   3 │ brock400_2         0.8    sum of neighbors     10         20  1.04\n",
       "   4 │ brock400_3         0.999  sum of neighbors     10         20  0.08\n",
       "   5 │ brock800_1         0.9    sum of neighbors     10         20  0.28      ⋯\n",
       "   6 │ brock800_2         0.999  sum of neighbors     10         20  0.13\n",
       "   7 │ brock800_2         0.8    sum of neighbors     10         20  0.72\n",
       "   8 │ brock800_3         0.999  sum of neighbors     10         20  0.13\n",
       "  ⋮  │       ⋮            ⋮             ⋮            ⋮        ⋮        ⋮       ⋱\n",
       "  14 │ C2000.9            0.95   sum of neighbors     10         20  6.60      ⋯\n",
       "  15 │ DSJC1000.5         0.999  sum of neighbors     10         20  0.13\n",
       "  16 │ DSJC1000.5         0.8    sum of neighbors     10         20  0.37\n",
       "  17 │ DSJC500.5          0.999  sum of neighbors     10         20  0.04\n",
       "  18 │ gen400_p0.9_55     0.999  sum of neighbors     10         20  0.17      ⋯\n",
       "  19 │ gen400_p0.9_65     0.999  sum of neighbors     10         20  0.19\n",
       "  20 │ hamming10-4        0.95   sum of neighbors     10         20  0.92\n",
       "\u001b[36m                                                    2 columns and 5 rows omitted\u001b[0m"
      ]
     },
     "metadata": {},
     "output_type": "display_data"
    }
   ],
   "source": [
    "df_beta_10_exp_20_greedy = evaluate(greedy, \"greedy\"; β=10, expansion_limit=20)\n",
    "df_beta_10_exp_20_sum = evaluate(sum_of_neighbors, \"sum of neighbors\"; β=10, expansion_limit=20)"
   ]
  },
  {
   "cell_type": "markdown",
   "metadata": {},
   "source": [
    "#### $\\beta = 20, \\mathit{expansion\\_limit} = 50$"
   ]
  },
  {
   "cell_type": "code",
   "execution_count": 11,
   "metadata": {},
   "outputs": [
    {
     "data": {
      "text/html": [
       "<div class=\"data-frame\"><p>20 rows × 8 columns</p><table class=\"data-frame\"><thead><tr><th></th><th>GraphID</th><th>target_γ</th><th>guidance_func</th><th>β</th><th>exp_limit</th><th>time</th><th>obj</th><th>best_known</th></tr><tr><th></th><th title=\"String\">String</th><th title=\"Real\">Real</th><th title=\"String\">String</th><th title=\"Int64\">Int64</th><th title=\"Int64\">Int64</th><th title=\"String\">String</th><th title=\"Int64\">Int64</th><th title=\"Int64\">Int64</th></tr></thead><tbody><tr><th>1</th><td>brock400_1</td><td>0.999</td><td>sum of neighbors</td><td>20</td><td>50</td><td>0.26</td><td>19</td><td>27</td></tr><tr><th>2</th><td>brock400_2</td><td>0.999</td><td>sum of neighbors</td><td>20</td><td>50</td><td>0.22</td><td>17</td><td>29</td></tr><tr><th>3</th><td>brock400_2</td><td>0.8</td><td>sum of neighbors</td><td>20</td><td>50</td><td>4.46</td><td>166</td><td>187</td></tr><tr><th>4</th><td>brock400_3</td><td>0.999</td><td>sum of neighbors</td><td>20</td><td>50</td><td>0.21</td><td>18</td><td>31</td></tr><tr><th>5</th><td>brock800_1</td><td>0.9</td><td>sum of neighbors</td><td>20</td><td>50</td><td>1.15</td><td>34</td><td>43</td></tr><tr><th>6</th><td>brock800_2</td><td>0.999</td><td>sum of neighbors</td><td>20</td><td>50</td><td>0.40</td><td>15</td><td>24</td></tr><tr><th>7</th><td>brock800_2</td><td>0.8</td><td>sum of neighbors</td><td>20</td><td>50</td><td>3.00</td><td>82</td><td>96</td></tr><tr><th>8</th><td>brock800_3</td><td>0.999</td><td>sum of neighbors</td><td>20</td><td>50</td><td>0.38</td><td>15</td><td>22</td></tr><tr><th>9</th><td>brock800_3</td><td>0.9</td><td>sum of neighbors</td><td>20</td><td>50</td><td>1.06</td><td>32</td><td>43</td></tr><tr><th>10</th><td>brock800_3</td><td>0.8</td><td>sum of neighbors</td><td>20</td><td>50</td><td>2.84</td><td>79</td><td>94</td></tr><tr><th>11</th><td>C1000.9</td><td>0.999</td><td>sum of neighbors</td><td>20</td><td>50</td><td>1.85</td><td>44</td><td>70</td></tr><tr><th>12</th><td>C1000.9</td><td>0.95</td><td>sum of neighbors</td><td>20</td><td>50</td><td>9.58</td><td>173</td><td>222</td></tr><tr><th>13</th><td>C2000.9</td><td>0.999</td><td>sum of neighbors</td><td>20</td><td>50</td><td>5.93</td><td>53</td><td>82</td></tr><tr><th>14</th><td>C2000.9</td><td>0.95</td><td>sum of neighbors</td><td>20</td><td>50</td><td>31.18</td><td>226</td><td>288</td></tr><tr><th>15</th><td>DSJC1000.5</td><td>0.999</td><td>sum of neighbors</td><td>20</td><td>50</td><td>0.32</td><td>12</td><td>15</td></tr><tr><th>16</th><td>DSJC1000.5</td><td>0.8</td><td>sum of neighbors</td><td>20</td><td>50</td><td>1.34</td><td>36</td><td>41</td></tr><tr><th>17</th><td>DSJC500.5</td><td>0.999</td><td>sum of neighbors</td><td>20</td><td>50</td><td>0.15</td><td>11</td><td>13</td></tr><tr><th>18</th><td>gen400_p0.9_55</td><td>0.999</td><td>sum of neighbors</td><td>20</td><td>50</td><td>0.62</td><td>36</td><td>55</td></tr><tr><th>19</th><td>gen400_p0.9_65</td><td>0.999</td><td>sum of neighbors</td><td>20</td><td>50</td><td>0.68</td><td>40</td><td>66</td></tr><tr><th>20</th><td>hamming10-4</td><td>0.95</td><td>sum of neighbors</td><td>20</td><td>50</td><td>3.08</td><td>63</td><td>88</td></tr></tbody></table></div>"
      ],
      "text/latex": [
       "\\begin{tabular}{r|cccccccc}\n",
       "\t& GraphID & target\\_γ & guidance\\_func & β & exp\\_limit & time & obj & best\\_known\\\\\n",
       "\t\\hline\n",
       "\t& String & Real & String & Int64 & Int64 & String & Int64 & Int64\\\\\n",
       "\t\\hline\n",
       "\t1 & brock400\\_1 & 0.999 & sum of neighbors & 20 & 50 & 0.26 & 19 & 27 \\\\\n",
       "\t2 & brock400\\_2 & 0.999 & sum of neighbors & 20 & 50 & 0.22 & 17 & 29 \\\\\n",
       "\t3 & brock400\\_2 & 0.8 & sum of neighbors & 20 & 50 & 4.46 & 166 & 187 \\\\\n",
       "\t4 & brock400\\_3 & 0.999 & sum of neighbors & 20 & 50 & 0.21 & 18 & 31 \\\\\n",
       "\t5 & brock800\\_1 & 0.9 & sum of neighbors & 20 & 50 & 1.15 & 34 & 43 \\\\\n",
       "\t6 & brock800\\_2 & 0.999 & sum of neighbors & 20 & 50 & 0.40 & 15 & 24 \\\\\n",
       "\t7 & brock800\\_2 & 0.8 & sum of neighbors & 20 & 50 & 3.00 & 82 & 96 \\\\\n",
       "\t8 & brock800\\_3 & 0.999 & sum of neighbors & 20 & 50 & 0.38 & 15 & 22 \\\\\n",
       "\t9 & brock800\\_3 & 0.9 & sum of neighbors & 20 & 50 & 1.06 & 32 & 43 \\\\\n",
       "\t10 & brock800\\_3 & 0.8 & sum of neighbors & 20 & 50 & 2.84 & 79 & 94 \\\\\n",
       "\t11 & C1000.9 & 0.999 & sum of neighbors & 20 & 50 & 1.85 & 44 & 70 \\\\\n",
       "\t12 & C1000.9 & 0.95 & sum of neighbors & 20 & 50 & 9.58 & 173 & 222 \\\\\n",
       "\t13 & C2000.9 & 0.999 & sum of neighbors & 20 & 50 & 5.93 & 53 & 82 \\\\\n",
       "\t14 & C2000.9 & 0.95 & sum of neighbors & 20 & 50 & 31.18 & 226 & 288 \\\\\n",
       "\t15 & DSJC1000.5 & 0.999 & sum of neighbors & 20 & 50 & 0.32 & 12 & 15 \\\\\n",
       "\t16 & DSJC1000.5 & 0.8 & sum of neighbors & 20 & 50 & 1.34 & 36 & 41 \\\\\n",
       "\t17 & DSJC500.5 & 0.999 & sum of neighbors & 20 & 50 & 0.15 & 11 & 13 \\\\\n",
       "\t18 & gen400\\_p0.9\\_55 & 0.999 & sum of neighbors & 20 & 50 & 0.62 & 36 & 55 \\\\\n",
       "\t19 & gen400\\_p0.9\\_65 & 0.999 & sum of neighbors & 20 & 50 & 0.68 & 40 & 66 \\\\\n",
       "\t20 & hamming10-4 & 0.95 & sum of neighbors & 20 & 50 & 3.08 & 63 & 88 \\\\\n",
       "\\end{tabular}\n"
      ],
      "text/plain": [
       "\u001b[1m20×8 DataFrame\u001b[0m\n",
       "\u001b[1m Row \u001b[0m│\u001b[1m GraphID        \u001b[0m\u001b[1m target_γ \u001b[0m\u001b[1m guidance_func    \u001b[0m\u001b[1m β     \u001b[0m\u001b[1m exp_limit \u001b[0m\u001b[1m time   \u001b[0m\u001b[1m o\u001b[0m ⋯\n",
       "\u001b[1m     \u001b[0m│\u001b[90m String         \u001b[0m\u001b[90m Real     \u001b[0m\u001b[90m String           \u001b[0m\u001b[90m Int64 \u001b[0m\u001b[90m Int64     \u001b[0m\u001b[90m String \u001b[0m\u001b[90m I\u001b[0m ⋯\n",
       "─────┼──────────────────────────────────────────────────────────────────────────\n",
       "   1 │ brock400_1         0.999  sum of neighbors     20         50  0.26      ⋯\n",
       "   2 │ brock400_2         0.999  sum of neighbors     20         50  0.22\n",
       "   3 │ brock400_2         0.8    sum of neighbors     20         50  4.46\n",
       "   4 │ brock400_3         0.999  sum of neighbors     20         50  0.21\n",
       "   5 │ brock800_1         0.9    sum of neighbors     20         50  1.15      ⋯\n",
       "   6 │ brock800_2         0.999  sum of neighbors     20         50  0.40\n",
       "   7 │ brock800_2         0.8    sum of neighbors     20         50  3.00\n",
       "   8 │ brock800_3         0.999  sum of neighbors     20         50  0.38\n",
       "  ⋮  │       ⋮            ⋮             ⋮            ⋮        ⋮        ⋮       ⋱\n",
       "  14 │ C2000.9            0.95   sum of neighbors     20         50  31.18     ⋯\n",
       "  15 │ DSJC1000.5         0.999  sum of neighbors     20         50  0.32\n",
       "  16 │ DSJC1000.5         0.8    sum of neighbors     20         50  1.34\n",
       "  17 │ DSJC500.5          0.999  sum of neighbors     20         50  0.15\n",
       "  18 │ gen400_p0.9_55     0.999  sum of neighbors     20         50  0.62      ⋯\n",
       "  19 │ gen400_p0.9_65     0.999  sum of neighbors     20         50  0.68\n",
       "  20 │ hamming10-4        0.95   sum of neighbors     20         50  3.08\n",
       "\u001b[36m                                                    2 columns and 5 rows omitted\u001b[0m"
      ]
     },
     "metadata": {},
     "output_type": "display_data"
    }
   ],
   "source": [
    "df_beta_20_exp_50_greedy = evaluate(greedy, \"greedy\"; β=20, expansion_limit=50)\n",
    "df_beta_20_exp_50_sum = evaluate(sum_of_neighbors, \"sum of neighbors\"; β=20, expansion_limit=50)"
   ]
  },
  {
   "cell_type": "code",
   "execution_count": 12,
   "metadata": {},
   "outputs": [
    {
     "data": {
      "text/plain": [
       "\"df_lower_bound_heuristic.csv\""
      ]
     },
     "metadata": {},
     "output_type": "display_data"
    }
   ],
   "source": [
    "using CSV\n",
    "\n",
    "df_all = vcat(\n",
    "    df_beta_1_exp_10_greedy,\n",
    "    df_beta_1_exp_10_sum,\n",
    "    df_beta_5_exp_10_greedy,\n",
    "    df_beta_5_exp_10_sum,\n",
    "    df_beta_5_exp_20_greedy,\n",
    "    df_beta_5_exp_20_sum,\n",
    "    df_beta_10_exp_20_greedy,\n",
    "    df_beta_10_exp_20_sum,\n",
    "    df_beta_20_exp_50_greedy,\n",
    "    df_beta_20_exp_50_sum\n",
    ")\n",
    "\n",
    "CSV.write(\"df_lower_bound_heuristic.csv\", df_all)"
   ]
  }
 ],
 "metadata": {
  "kernelspec": {
   "display_name": "Julia 1.7.0",
   "language": "julia",
   "name": "julia-1.7"
  },
  "language_info": {
   "file_extension": ".jl",
   "mimetype": "application/julia",
   "name": "julia",
   "version": "1.7.0"
  },
  "orig_nbformat": 4
 },
 "nbformat": 4,
 "nbformat_minor": 2
}
